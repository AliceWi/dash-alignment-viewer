{
 "cells": [
  {
   "cell_type": "code",
   "execution_count": null,
   "metadata": {},
   "outputs": [],
   "source": [
    "import numpy as np\n",
    "import plotly.plotly as py\n",
    "import plotly.graph_objs as go\n",
    "from plotly.figure_factory import create_annotated_heatmap"
   ]
  },
  {
   "cell_type": "markdown",
   "metadata": {},
   "source": [
    "### Heatmap with manual annotations"
   ]
  },
  {
   "cell_type": "code",
   "execution_count": null,
   "metadata": {},
   "outputs": [],
   "source": [
    "n=250\n",
    "\n",
    "y = [[i]*n for i in range(12)]\n",
    "y = [item for sublist in y for item in sublist]\n",
    "\n",
    "trace = go.Heatmap(z=np.random.randint(1, 10,(12, n)), colorscale = 'Viridis')\n",
    "data=[trace]\n",
    "\n",
    "data.append({'type': 'scatter', \n",
    "                    'mode': 'text', \n",
    "                    'x': list(range(n))*12,\n",
    "                    'y': y, \n",
    "                    'text': np.random.choice(list('ATGC'), 12*250),\n",
    "                    'textfont': {\n",
    "                        'size': 20\n",
    "                    }})\n",
    "\n",
    "\n",
    "steps = [{'args': ['xaxis', {'range': [-0.5 + e, 30.5 + e]}], 'method': 'relayout'} for e in range(n-30)]\n",
    "\n",
    "sliders = [dict(\n",
    "    active = 0,\n",
    "    steps = steps\n",
    ")]\n",
    "\n",
    "layout = dict(sliders=sliders)\n",
    "layout['xaxis'] = {'range': [-0.5, 30.5]}\n",
    "\n",
    "fig = dict(data=data, layout=layout)\n",
    "\n",
    "py.iplot(fig)"
   ]
  },
  {
   "cell_type": "markdown",
   "metadata": {},
   "source": [
    "### Heatmap with create_annotated_heatmap"
   ]
  },
  {
   "cell_type": "code",
   "execution_count": null,
   "metadata": {},
   "outputs": [],
   "source": [
    "n=250\n",
    "\n",
    "fig = create_annotated_heatmap(z=np.random.randint(1, 10,(12, n)), \n",
    "                               colorscale = 'Viridis')\n",
    "\n",
    "\n",
    "steps = [{'args': ['xaxis', {'range': [-0.5 + e, 30.5 + e]}], 'method': 'relayout'} for e in range(n-30)]\n",
    "\n",
    "sliders = [dict(\n",
    "    active = 0,\n",
    "    steps = steps\n",
    ")]\n",
    "\n",
    "fig.layout['sliders'] = sliders\n",
    "fig.layout['xaxis'] = {'range': [-0.5, 30.5]}\n",
    "\n",
    "py.iplot(fig)"
   ]
  }
 ],
 "metadata": {
  "kernelspec": {
   "display_name": "Python [conda env:biota]",
   "language": "python",
   "name": "conda-env-biota-py"
  },
  "language_info": {
   "codemirror_mode": {
    "name": "ipython",
    "version": 3
   },
   "file_extension": ".py",
   "mimetype": "text/x-python",
   "name": "python",
   "nbconvert_exporter": "python",
   "pygments_lexer": "ipython3",
   "version": "3.5.4"
  }
 },
 "nbformat": 4,
 "nbformat_minor": 2
}
